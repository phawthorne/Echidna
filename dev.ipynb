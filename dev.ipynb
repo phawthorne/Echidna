{
 "cells": [
  {
   "cell_type": "code",
   "execution_count": null,
   "metadata": {},
   "outputs": [],
   "source": [
    "using Revise\n",
    "using Echidna\n",
    "using Plots\n",
    "gr();"
   ]
  },
  {
   "cell_type": "markdown",
   "metadata": {},
   "source": [
    "Core structs: \n",
    "```\n",
    "struct Problem\n",
    "    nobjs::Int64\n",
    "    directions::Vector{Bool}\n",
    "    nvars::Int64\n",
    "    var_types::Vector{MOGA_Type},\n",
    "    eval_fn::Function\n",
    "end\n",
    "\n",
    "mutable struct Solution\n",
    "    problem::Problem\n",
    "    x::Vector{Float64}\n",
    "    evaluated::Bool\n",
    "    objectives::Vector{Float64}\n",
    "    crowding_distance::Float64\n",
    "    rank::Int64\n",
    "end\n",
    "```"
   ]
  },
  {
   "cell_type": "markdown",
   "metadata": {},
   "source": [
    "# Testing archive"
   ]
  },
  {
   "cell_type": "code",
   "execution_count": null,
   "metadata": {},
   "outputs": [],
   "source": [
    "prob = Problem(2, [false, false], 5, [MOGA_Real(0,10) for i in 1:5], x->sum(x)) # true means MINIMIZE, so we're maximizing here\n",
    "sols = Vector{Solution}()\n",
    "N = 10\n",
    "for i=0:N\n",
    "    r = i*(pi/2)/N\n",
    "    objs = [cos(r), sin(r)]\n",
    "    push!(sols, Solution(prob, [0.0], true, objs, 0.0, 0))\n",
    "end"
   ]
  },
  {
   "cell_type": "code",
   "execution_count": null,
   "metadata": {},
   "outputs": [],
   "source": [
    "archive = Archive(compare_pareto_dominance, Vector{Solution}())\n",
    "insert_solutions!(archive, sols)\n",
    "x = [s.objectives[1] for s in archive.solutions]\n",
    "y = [s.objectives[2] for s in archive.solutions]\n",
    "scatter(x, y, size=(300,300), aspect_ratio=:equal, legend=false)"
   ]
  },
  {
   "cell_type": "code",
   "execution_count": null,
   "metadata": {},
   "outputs": [],
   "source": [
    "s1 = Solution(prob, [0.0], true, [.5, .5], 0.0, 0)\n",
    "s2 = Solution(prob, [0.0], true, [.9, .9], 0.0, 0)"
   ]
  },
  {
   "cell_type": "code",
   "execution_count": null,
   "metadata": {},
   "outputs": [],
   "source": [
    "insert_solutions!(archive, [s1])\n",
    "x = [s.objectives[1] for s in archive.solutions]\n",
    "y = [s.objectives[2] for s in archive.solutions]\n",
    "scatter(x, y, size=(300,300), aspect_ratio=:equal, legend=false)"
   ]
  },
  {
   "cell_type": "code",
   "execution_count": null,
   "metadata": {},
   "outputs": [],
   "source": [
    "insert_solutions!(archive, [s2])\n",
    "x = [s.objectives[1] for s in archive.solutions]\n",
    "y = [s.objectives[2] for s in archive.solutions]\n",
    "scatter(x, y, size=(300,300), aspect_ratio=:equal, legend=false)"
   ]
  },
  {
   "cell_type": "markdown",
   "metadata": {},
   "source": [
    "# Testing non-dominated sort"
   ]
  },
  {
   "cell_type": "code",
   "execution_count": null,
   "metadata": {},
   "outputs": [],
   "source": [
    "prob = Problem(2, [false, false], 5, [MOGA_Real(0,10) for i in 1:5], x->sum(x)) # true means MINIMIZE, so we're maximizing here\n",
    "sols = Vector{Solution}()\n",
    "N = 10\n",
    "for i=0:N\n",
    "    r = i*(pi/2)/N\n",
    "    objs = [cos(r), sin(r)]\n",
    "    push!(sols, Solution(prob, [0.0], true, objs, 0.0, 0))\n",
    "    push!(sols, Solution(prob, [0.0], true, .9*objs, 0.0, 0))\n",
    "    push!(sols, Solution(prob, [0.0], true, .8*objs, 0.0, 0))\n",
    "end\n",
    "Echidna.nondominated_sort(sols)"
   ]
  },
  {
   "cell_type": "code",
   "execution_count": null,
   "metadata": {},
   "outputs": [],
   "source": [
    "x = [s.objectives[1] for s in sols]\n",
    "y = [s.objectives[2] for s in sols]\n",
    "r = [s.rank for s in sols]\n",
    "cdist = [s.crowding_distance for s in sols]\n",
    "cdist[isinf.(cdist)] = 0\n",
    "p1 = scatter(x, y, zcolor=r, aspect_ratio=:equal, legend=false, title=\"rank\")\n",
    "p2 = scatter(x, y, zcolor=cdist, aspect_ratio=:equal, legend=false, title=\"crowding distance\")\n",
    "plot(p1, p2, layout=(1, 2))"
   ]
  },
  {
   "cell_type": "markdown",
   "metadata": {},
   "source": [
    "# Testing mutation and crossover operators\n",
    "The default NSGA II algorithm uses the `PM` mutation operator and `SBX` crossover operator, so those were the first two implemented"
   ]
  },
  {
   "cell_type": "code",
   "execution_count": null,
   "metadata": {},
   "outputs": [],
   "source": [
    "prob = Problem(2, [false, false], 5, [MOGA_Real(0,10) for i in 1:5], x->sum(x)) # true means MINIMIZE, so we're maximizing here\n",
    "p1 = Solution(prob, [3. for i in 1:5], true, [1.0, 0.0], 0.0, 0);\n",
    "p2 = Solution(prob, [6. for i in 1:5], true, [1.0, 0.0], 0.0, 0);"
   ]
  },
  {
   "cell_type": "code",
   "execution_count": null,
   "metadata": {},
   "outputs": [],
   "source": [
    "c = PM(p1).x"
   ]
  },
  {
   "cell_type": "code",
   "execution_count": null,
   "metadata": {},
   "outputs": [],
   "source": [
    "mut_vals = [Echidna.pm_mutation(2.5, 0.0, 10.0, 10.0) for i in 1:100000];"
   ]
  },
  {
   "cell_type": "code",
   "execution_count": null,
   "metadata": {},
   "outputs": [],
   "source": [
    "histogram(mut_vals)"
   ]
  },
  {
   "cell_type": "code",
   "execution_count": null,
   "metadata": {},
   "outputs": [],
   "source": [
    "c1, c2 = SBX(p1, p2)\n",
    "show(c1.x)\n",
    "print(\"\\n\")\n",
    "show(c2.x)"
   ]
  },
  {
   "cell_type": "markdown",
   "metadata": {},
   "source": [
    "# Experiment with ZTD1"
   ]
  },
  {
   "cell_type": "code",
   "execution_count": null,
   "metadata": {},
   "outputs": [],
   "source": [
    "nobjs = 2\n",
    "nvars = 30\n",
    "zdt1_problem = Problem(\n",
    "    2,\n",
    "    [false for i in 1:nobjs],\n",
    "    nvars,\n",
    "    [MOGA_Real(0.0, 1.0) for i in 1:30],\n",
    "    ZDT1\n",
    ")\n",
    "pop_size = 100\n",
    "pop = [random_candidate(zdt1_problem) for i in 1:pop_size]\n",
    "for i in 1:pop_size\n",
    "    evaluate!(pop[i])\n",
    "end\n",
    "\n",
    "archive = Archive(compare_pareto_dominance, Vector{Solution}())\n",
    "insert_solutions!(archive, pop)"
   ]
  },
  {
   "cell_type": "code",
   "execution_count": null,
   "metadata": {},
   "outputs": [],
   "source": [
    "xp = [c.objectives[1] for c in pop]\n",
    "yp = [c.objectives[2] for c in pop]\n",
    "xa = [c.objectives[1] for c in archive.solutions]\n",
    "ya = [c.objectives[2] for c in archive.solutions]\n",
    "scatter([xp,xa] , [yp, ya])"
   ]
  },
  {
   "cell_type": "code",
   "execution_count": null,
   "metadata": {},
   "outputs": [],
   "source": [
    "Echidna.nondominated_sort(pop)"
   ]
  },
  {
   "cell_type": "code",
   "execution_count": null,
   "metadata": {},
   "outputs": [],
   "source": [
    "x = [s.objectives[1] for s in pop]\n",
    "y = [s.objectives[2] for s in pop]\n",
    "r = [s.rank for s in pop]\n",
    "cdist = [s.crowding_distance for s in pop]\n",
    "cdist[isinf.(cdist)] = 0\n",
    "p1 = scatter(x, y, zcolor=r, aspect_ratio=:equal, legend=false, title=\"rank\")\n",
    "p2 = scatter(x, y, zcolor=cdist, aspect_ratio=:equal, legend=false, title=\"crowding distance\")\n",
    "plot(p1, p2, layout=(1, 2), aspect_ratio=:none)"
   ]
  },
  {
   "cell_type": "markdown",
   "metadata": {},
   "source": [
    "## Testing the tournament selector\n",
    "What we want to see is points selected with a bias towards the pareto frontier. "
   ]
  },
  {
   "cell_type": "code",
   "execution_count": null,
   "metadata": {},
   "outputs": [],
   "source": [
    "parents = [Echidna.tournament_selector(pop, 2, dominance=Echidna.nondominated_cmp) for i in 1:50];\n",
    "xn = [c.objectives[1] for c in parents]\n",
    "yn = [c.objectives[2] for c in parents]\n",
    "xp = [c.objectives[1] for c in pop]\n",
    "yp = [c.objectives[2] for c in pop]\n",
    "scatter([xp,xn] , [yp, yn])"
   ]
  },
  {
   "cell_type": "markdown",
   "metadata": {},
   "source": [
    "## Testing sorting by nondominated_cmp\n",
    "Echidna.nondominated_cmp returns -1, 0, or 1, but we need a binary result for sorting"
   ]
  },
  {
   "cell_type": "code",
   "execution_count": null,
   "metadata": {},
   "outputs": [],
   "source": [
    "k(c1, c2) = Echidna.nondominated_cmp(c1, c2) < 0"
   ]
  },
  {
   "cell_type": "code",
   "execution_count": null,
   "metadata": {},
   "outputs": [],
   "source": [
    "sorted_pop = sort(pop, lt=k);\n",
    "plot(1:100, [p.rank for p in sorted_pop])\n"
   ]
  },
  {
   "cell_type": "markdown",
   "metadata": {},
   "source": [
    "# Testing NSGA II\n",
    "```\n",
    "@with_kw mutable struct NSGAII <: Algorithm\n",
    "    problem::Problem\n",
    "    eval_fn::Function\n",
    "    population_size::Int64\n",
    "    n_iters::Int64\n",
    "end\n",
    "```"
   ]
  },
  {
   "cell_type": "code",
   "execution_count": null,
   "metadata": {},
   "outputs": [],
   "source": [
    "nobjs = 2\n",
    "nvars = 30\n",
    "zdt1_problem = Problem(\n",
    "    2,\n",
    "    [false for i in 1:nobjs],\n",
    "    nvars,\n",
    "    [MOGA_Real(0.0, 1.0) for i in 1:nvars],\n",
    "    ZDT1\n",
    ")\n",
    "\n",
    "algo = NSGAII(zdt1_problem, ZDT1, 100, 50)"
   ]
  },
  {
   "cell_type": "code",
   "execution_count": null,
   "metadata": {},
   "outputs": [],
   "source": [
    "@time sols = Echidna.nsgaii(algo);\n",
    "xinit = [c.objectives[1] for c in sols]\n",
    "yinit = [c.objectives[2] for c in sols]\n",
    "scatter(xinit, yinit)"
   ]
  },
  {
   "cell_type": "code",
   "execution_count": null,
   "metadata": {},
   "outputs": [],
   "source": []
  }
 ],
 "metadata": {
  "kernelspec": {
   "display_name": "Julia 0.6.2",
   "language": "julia",
   "name": "julia-0.6"
  },
  "language_info": {
   "file_extension": ".jl",
   "mimetype": "application/julia",
   "name": "julia",
   "version": "0.6.2"
  }
 },
 "nbformat": 4,
 "nbformat_minor": 2
}
