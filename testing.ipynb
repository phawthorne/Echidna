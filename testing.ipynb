{
 "cells": [
  {
   "cell_type": "code",
   "execution_count": null,
   "metadata": {},
   "outputs": [],
   "source": [
    "using Plots\n",
    "gr()\n",
    "include(\"core.jl\")\n",
    "include(\"var_types.jl\")\n",
    "include(\"algorithms.jl\");"
   ]
  },
  {
   "cell_type": "markdown",
   "metadata": {},
   "source": [
    "Core structs: \n",
    "```\n",
    "struct Problem\n",
    "    nobjs::Int64\n",
    "    directions::Vector{Bool}\n",
    "    nvars::Int64\n",
    "    var_types::Vector{MOGA_Type}\n",
    "end\n",
    "\n",
    "mutable struct Solution\n",
    "    problem::Problem\n",
    "    x::Vector{Float64}\n",
    "    evaluated::Bool\n",
    "    objectives::Vector{Float64}\n",
    "    crowding_distance::Float64\n",
    "    rank::Int64\n",
    "end\n",
    "```"
   ]
  },
  {
   "cell_type": "markdown",
   "metadata": {},
   "source": [
    "# Testing archive"
   ]
  },
  {
   "cell_type": "code",
   "execution_count": null,
   "metadata": {},
   "outputs": [],
   "source": [
    "prob = Problem(2, [false, false], 5, [MOGA_Real(0,10) for i in 1:5]) # true means MINIMIZE, so we're maximizing here\n",
    "sols = Vector{Solution}()\n",
    "N = 10\n",
    "for i=0:N\n",
    "    r = i*(pi/2)/N\n",
    "    objs = [cos(r), sin(r)]\n",
    "    push!(sols, Solution(prob, [0.0], true, objs, 0.0, 0))\n",
    "end"
   ]
  },
  {
   "cell_type": "code",
   "execution_count": null,
   "metadata": {},
   "outputs": [],
   "source": [
    "archive = Archive(compare_pareto_dominance, Vector{Solution}())\n",
    "insert_solutions!(archive, sols)\n",
    "x = [s.objectives[1] for s in archive.solutions]\n",
    "y = [s.objectives[2] for s in archive.solutions]\n",
    "scatter(x, y, size=(300,300), aspect_ratio=:equal, legend=false)"
   ]
  },
  {
   "cell_type": "code",
   "execution_count": null,
   "metadata": {},
   "outputs": [],
   "source": [
    "s1 = Solution(prob, [0.0], true, [.5, .5], 0.0, 0)\n",
    "s2 = Solution(prob, [0.0], true, [.9, .9], 0.0, 0)"
   ]
  },
  {
   "cell_type": "code",
   "execution_count": null,
   "metadata": {},
   "outputs": [],
   "source": [
    "insert_solutions!(archive, [s1])\n",
    "x = [s.objectives[1] for s in archive.solutions]\n",
    "y = [s.objectives[2] for s in archive.solutions]\n",
    "scatter(x, y, size=(300,300), aspect_ratio=:equal, legend=false)"
   ]
  },
  {
   "cell_type": "code",
   "execution_count": null,
   "metadata": {},
   "outputs": [],
   "source": [
    "insert_solutions!(archive, [s2])\n",
    "x = [s.objectives[1] for s in archive.solutions]\n",
    "y = [s.objectives[2] for s in archive.solutions]\n",
    "scatter(x, y, size=(300,300), aspect_ratio=:equal, legend=false)"
   ]
  },
  {
   "cell_type": "markdown",
   "metadata": {},
   "source": [
    "# Testing non-dominated sort"
   ]
  },
  {
   "cell_type": "code",
   "execution_count": null,
   "metadata": {},
   "outputs": [],
   "source": [
    "prob = Problem(2, [false, false], 5, [MOGA_Real(0,10) for i in 1:5]) # true means MINIMIZE, so we're maximizing here\n",
    "sols = Vector{Solution}()\n",
    "N = 10\n",
    "for i=0:N\n",
    "    r = i*(pi/2)/N\n",
    "    objs = [cos(r), sin(r)]\n",
    "    push!(sols, Solution(prob, [0.0], true, objs, 0.0, 0))\n",
    "    push!(sols, Solution(prob, [0.0], true, .9*objs, 0.0, 0))\n",
    "    push!(sols, Solution(prob, [0.0], true, .8*objs, 0.0, 0))\n",
    "end\n",
    "nondominated_sort(sols)"
   ]
  },
  {
   "cell_type": "code",
   "execution_count": null,
   "metadata": {},
   "outputs": [],
   "source": [
    "x = [s.objectives[1] for s in sols]\n",
    "y = [s.objectives[2] for s in sols]\n",
    "r = [s.rank for s in sols]\n",
    "cdist = [s.crowding_distance for s in sols]\n",
    "cdist[isinf.(cdist)] = 0\n",
    "p1 = scatter(x, y, zcolor=r, aspect_ratio=:equal, legend=false, title=\"rank\")\n",
    "p2 = scatter(x, y, zcolor=cdist, aspect_ratio=:equal, legend=false, title=\"crowding distance\")\n",
    "plot(p1, p2, layout=(1, 2))"
   ]
  },
  {
   "cell_type": "code",
   "execution_count": null,
   "metadata": {},
   "outputs": [],
   "source": []
  }
 ],
 "metadata": {
  "kernelspec": {
   "display_name": "Julia 0.6.2",
   "language": "julia",
   "name": "julia-0.6"
  },
  "language_info": {
   "file_extension": ".jl",
   "mimetype": "application/julia",
   "name": "julia",
   "version": "0.6.2"
  }
 },
 "nbformat": 4,
 "nbformat_minor": 2
}
